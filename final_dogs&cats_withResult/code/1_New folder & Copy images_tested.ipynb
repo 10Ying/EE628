{
 "cells": [
  {
   "cell_type": "code",
   "execution_count": 1,
   "metadata": {},
   "outputs": [
    {
     "name": "stdout",
     "output_type": "stream",
     "text": [
      "imported\n",
      "folder already exsisted\n"
     ]
    }
   ],
   "source": [
    "'''\n",
    "创建新的文件夹，并从train中复制图片到对应文件夹中\n",
    "创建的文件结构如下\n",
    "\n",
    "data/\n",
    "    train/\n",
    "        dogs/\n",
    "            dog001.jpg\n",
    "            dog002.jpg\n",
    "            ...\n",
    "        cats/\n",
    "            cat001.jpg\n",
    "            cat002.jpg\n",
    "            ...\n",
    "    validation/\n",
    "        dogs/\n",
    "            dog001.jpg\n",
    "            dog002.jpg\n",
    "            ...\n",
    "        cats/\n",
    "            cat001.jpg\n",
    "            cat002.jpg\n",
    "            ...\n",
    "    test/\n",
    "        test/\n",
    "            001,jpg\n",
    "\n",
    "分类图片，前1/3作为训练集，后1/3作为验证集\n",
    "- put the cat pictures index 0-8332 in data/train/cats\n",
    "- put the cat pictures index 8333-12499 in data/validation/cats\n",
    "- put the dogs pictures index 0-8332 in data/train/dogs\n",
    "- put the dog pictures index 8333-12499 in data/validation/dogs\n",
    "'''\n",
    "\n",
    "#只需要修改两个此参数，path_folder是存放文件夹的位置，path_img是训练集的位置。修改好位置参数后直接run，\n",
    "#如果存放文件夹的位置已有data文件夹，会提示文件夹已经存在，可以改名或者换文件夹，或者更换代码中的“data”\n",
    "path_folder='d:\\\\EE628\\\\\\\\final_dogs&cats'\n",
    "path_img = 'C:\\\\Users\\\\Administrator\\\\Desktop\\\\EE628\\\\final_dogs&cats\\\\train'\n",
    "path_test = 'C:\\\\Users\\\\Administrator\\\\Desktop\\\\EE628\\\\\\\\final_dogs&cats\\\\test1\\\\test1'\n",
    "\n",
    "\n",
    "import os,shutil\n",
    "print('imported')\n",
    "#这个函数用来创建文件夹\n",
    "def Createfolder(path_folder):\n",
    "    if os.path.exists(path_folder+os.sep+'data'):\n",
    "        print('folder already exsisted')\n",
    "    else:\n",
    "        os.makedirs(path_folder+os.sep+'data'+os.sep+'train'+os.sep+'dogs')\n",
    "        os.makedirs(path_folder+os.sep+'data'+os.sep+'train'+os.sep+'cats')\n",
    "        os.makedirs(path_folder+os.sep+'data'+os.sep+'validation'+os.sep+'dogs')\n",
    "        os.makedirs(path_folder+os.sep+'data'+os.sep+'validation'+os.sep+'cats')    \n",
    "        os.makedirs(path_folder+os.sep+'data'+os.sep+'test'+os.sep+'test')\n",
    "        print('New folder created ')\n",
    "    #move the images\n",
    "#这个函数用来把图片按照文件名分类复制到对应文件夹中\n",
    "def CopyImages(path_img,path_test):\n",
    "    ls = os.listdir(path_img)\n",
    "    print('Training Number:',len(ls))\n",
    "    for picture in ls:\n",
    "        if picture.find('cat') != -1:\n",
    "            if int(picture[4:-4])<int(len(ls)/2/3*2):                \n",
    "                shutil.copy(path_img+os.sep+picture,path_folder+os.sep+'data'+os.sep+'train'+os.sep+'cats'+os.sep+picture)\n",
    "            else:\n",
    "                shutil.copy(path_img+os.sep+picture,path_folder+os.sep+'data'+os.sep+'validation'+os.sep+'cats'+os.sep+picture)\n",
    "        else: \n",
    "            if int(picture[4:-4])<int(len(ls)/2/3*2):\n",
    "                shutil.copy(path_img+os.sep+picture,path_folder+os.sep+'data'+os.sep+'train'+os.sep+'dogs'+os.sep+picture)\n",
    "            else:\n",
    "                shutil.copy(path_img+os.sep+picture,path_folder+os.sep+'data'+os.sep+'validation'+os.sep+'dogs'+os.sep+picture)\n",
    "    print('Training images copied')\n",
    "    ls_test= os.listdir(path_test)\n",
    "    print('Test Number:',len(ls_test))\n",
    "    for j in ls_test: \n",
    "        shutil.copy(path_test+os.sep+j,path_folder+os.sep+'data'+os.sep+'test'+os.sep+'test'+os.sep+j)\n",
    "    print('Test images copied')\n",
    "\n",
    "Createfolder(path_folder)"
   ]
  },
  {
   "cell_type": "code",
   "execution_count": 10,
   "metadata": {},
   "outputs": [
    {
     "name": "stdout",
     "output_type": "stream",
     "text": [
      "Training Number: 25000\n",
      "Training images copied\n",
      "Test Number: 12500\n",
      "Test images copied\n",
      "All pictures copied\n"
     ]
    }
   ],
   "source": [
    "CopyImages(path_img,path_test)\n",
    "print('All pictures copied')"
   ]
  },
  {
   "cell_type": "code",
   "execution_count": 11,
   "metadata": {},
   "outputs": [
    {
     "name": "stdout",
     "output_type": "stream",
     "text": [
      "Number of pictures in training dogs file 8333\n",
      "Number of pictures in training cats file 8333\n",
      "Number of pictures in validation dtss file 4167\n",
      "Number of pictures in validation cats file 4167\n",
      "Number of pictures in test file 12500\n"
     ]
    }
   ],
   "source": [
    "#test the completion\n",
    "print('Number of pictures in training dogs file' ,len(os.listdir(path_folder+os.sep+'data'+os.sep+'train'+os.sep+'dogs')))\n",
    "print('Number of pictures in training cats file' ,len(os.listdir(path_folder+os.sep+'data'+os.sep+'train'+os.sep+'cats')))\n",
    "print('Number of pictures in validation dtss file' ,len(os.listdir(path_folder+os.sep+'data'+os.sep+'validation'+os.sep+'dogs')))\n",
    "print('Number of pictures in validation cats file' ,len(os.listdir(path_folder+os.sep+'data'+os.sep+'validation'+os.sep+'cats')))\n",
    "print('Number of pictures in test file' ,len(os.listdir(path_folder+os.sep+'data'+os.sep+'test'+os.sep+'test')))"
   ]
  },
  {
   "cell_type": "code",
   "execution_count": null,
   "metadata": {},
   "outputs": [],
   "source": []
  }
 ],
 "metadata": {
  "kernelspec": {
   "display_name": "Python 3",
   "language": "python",
   "name": "python3"
  },
  "language_info": {
   "codemirror_mode": {
    "name": "ipython",
    "version": 3
   },
   "file_extension": ".py",
   "mimetype": "text/x-python",
   "name": "python",
   "nbconvert_exporter": "python",
   "pygments_lexer": "ipython3",
   "version": "3.6.4"
  }
 },
 "nbformat": 4,
 "nbformat_minor": 2
}
